{
 "cells": [
  {
   "cell_type": "code",
   "execution_count": null,
   "metadata": {},
   "outputs": [],
   "source": [
    "import pandas as pd\n",
    "import uuid\n",
    "import os"
   ]
  },
  {
   "cell_type": "code",
   "execution_count": null,
   "metadata": {},
   "outputs": [],
   "source": [
    "os.getcwd()"
   ]
  },
  {
   "cell_type": "code",
   "execution_count": null,
   "metadata": {},
   "outputs": [],
   "source": [
    "class Player(Base):\n",
    "    __tablename__ = \"players\"\n",
    "\n",
    "    rating = Column(Float, nullable=True)\n",
    "    games_played = Column(Integer, nullable=True)\n",
    "    games_won = Column(Integer, nullable=True)\n",
    "    # created_at = Column(DateTime, nullable=False, default=func.current_timestamp())"
   ]
  },
  {
   "cell_type": "code",
   "execution_count": null,
   "metadata": {},
   "outputs": [],
   "source": []
  },
  {
   "cell_type": "code",
   "execution_count": null,
   "metadata": {},
   "outputs": [],
   "source": [
    "class Match(Base):\n",
    "    __tablename__ = \"matches\"\n",
    "\n",
    "    id = Column(Integer, primary_key=True, index=True)\n",
    "    player1_id = Column(\n",
    "        Integer, ForeignKey(\"players.id\", ondelete=\"CASCADE\"), nullable=False\n",
    "    )\n",
    "    player2_id = Column(\n",
    "        Integer, ForeignKey(\"players.id\", ondelete=\"CASCADE\"), nullable=False\n",
    "    )\n",
    "    player1_score = Column(Integer, nullable=False)\n",
    "    player2_score = Column(Integer, nullable=False)\n",
    "    date_played = Column(DateTime, nullable=False, default=func.current_timestamp())"
   ]
  },
  {
   "cell_type": "code",
   "execution_count": null,
   "metadata": {},
   "outputs": [],
   "source": [
    "one_player = {\n",
    "    \"id\": [str(uuid.uuid4()), str(uuid.uuid4())],\n",
    "    \"name\": [\"Ugo\", \"Flo\"],\n",
    "    \"rating\": [0, 0],\n",
    "    \"games_played\": [0, 0],\n",
    "    \"games_won\": [0, 0],\n",
    "}\n",
    "one_playerss = {\n",
    "    \"name\": \"Ugo\",\n",
    "    \"rating\": 0,\n",
    "    \"games_played\": 0,\n",
    "    \"games_won\": 0,\n",
    "}"
   ]
  },
  {
   "cell_type": "code",
   "execution_count": null,
   "metadata": {},
   "outputs": [],
   "source": [
    "test = pd.DataFrame.from_dict(one_player)"
   ]
  },
  {
   "cell_type": "code",
   "execution_count": null,
   "metadata": {},
   "outputs": [],
   "source": [
    "test.iloc[len(test) - 1] = one_playerss"
   ]
  },
  {
   "cell_type": "code",
   "execution_count": null,
   "metadata": {},
   "outputs": [],
   "source": [
    "test = test.set_index(\"id\")"
   ]
  },
  {
   "cell_type": "code",
   "execution_count": null,
   "metadata": {},
   "outputs": [],
   "source": [
    "test.loc[\"bbb\"] = one_playerss"
   ]
  },
  {
   "cell_type": "code",
   "execution_count": null,
   "metadata": {},
   "outputs": [],
   "source": [
    "test.reset_index().to_dict(orient=\"records\")"
   ]
  },
  {
   "cell_type": "code",
   "execution_count": null,
   "metadata": {},
   "outputs": [],
   "source": [
    "match = {\n",
    "    \"id\": [str(uuid.uuid4())],\n",
    "    \"player1_id\": [\"dc346ec0-4fab-4871-b1b9-4170aa9374c9\"],\n",
    "    \"player2_id\": [\"980b2c55-446e-4a9c-b0fe-d263fa190167\"],\n",
    "    \"player1_score\": [14],\n",
    "    \"player2_score\": [12],\n",
    "}"
   ]
  },
  {
   "cell_type": "code",
   "execution_count": null,
   "metadata": {},
   "outputs": [],
   "source": [
    "pd.DataFrame.from_dict(match).to_csv(\"matchs.csv\")"
   ]
  },
  {
   "cell_type": "code",
   "execution_count": null,
   "metadata": {},
   "outputs": [],
   "source": []
  }
 ],
 "metadata": {
  "kernelspec": {
   "display_name": "extreme_bis",
   "language": "python",
   "name": "python3"
  },
  "language_info": {
   "codemirror_mode": {
    "name": "ipython",
    "version": 3
   },
   "file_extension": ".py",
   "mimetype": "text/x-python",
   "name": "python",
   "nbconvert_exporter": "python",
   "pygments_lexer": "ipython3",
   "version": "3.10.16"
  }
 },
 "nbformat": 4,
 "nbformat_minor": 2
}
